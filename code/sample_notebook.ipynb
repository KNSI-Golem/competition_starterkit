{
 "metadata": {
  "language_info": {
   "codemirror_mode": {
    "name": "ipython",
    "version": 3
   },
   "file_extension": ".py",
   "mimetype": "text/x-python",
   "name": "python",
   "nbconvert_exporter": "python",
   "pygments_lexer": "ipython3",
   "version": "3.8.0-final"
  },
  "orig_nbformat": 2,
  "kernelspec": {
   "name": "python380jvsc74a57bd01baa965d5efe3ac65b79dfc60c0d706280b1da80fedb7760faf2759126c4f253",
   "display_name": "Python 3.8.0 64-bit"
  },
  "metadata": {
   "interpreter": {
    "hash": "1baa965d5efe3ac65b79dfc60c0d706280b1da80fedb7760faf2759126c4f253"
   }
  }
 },
 "nbformat": 4,
 "nbformat_minor": 2,
 "cells": [
  {
   "cell_type": "code",
   "execution_count": 19,
   "metadata": {},
   "outputs": [],
   "source": [
    "# Data loading\n",
    "\n",
    "import pandas as pd\n",
    "import numpy as np\n",
    "import os\n",
    "\n",
    "data = pd.read_csv(os.path.join('data', 'X_train.csv'))\n",
    "test_data = pd.read_csv(os.path.join('data', 'X_test.csv'))\n",
    "labels = pd.read_csv(os.path.join('data', 'y_train.csv'), header=None)"
   ]
  },
  {
   "cell_type": "code",
   "execution_count": 20,
   "metadata": {},
   "outputs": [],
   "source": [
    "# A lot of nans, let's fill it with zeros for now\r\n",
    "test_data.fillna(0, inplace=True)\r\n",
    "data.fillna(0, inplace=True)"
   ]
  },
  {
   "cell_type": "code",
   "execution_count": 54,
   "metadata": {},
   "outputs": [],
   "source": [
    "# split data\n",
    "from sklearn.linear_model import LogisticRegression\n",
    "from sklearn.model_selection import train_test_split\n",
    "\n",
    "X_train, X_test, y_train, y_test = train_test_split(data, labels, test_size=0.25)"
   ]
  },
  {
   "cell_type": "code",
   "execution_count": 56,
   "metadata": {},
   "outputs": [
    {
     "output_type": "execute_result",
     "data": {
      "text/plain": [
       "0.6082698585418934"
      ]
     },
     "metadata": {},
     "execution_count": 56
    }
   ],
   "source": [
    "# train and score simple logreg model\n",
    "model = LogisticRegression(max_iter=1e5)\n",
    "model.fit(X_train, y_train.values.ravel())\n",
    "model.score(X_test, y_test)"
   ]
  },
  {
   "cell_type": "code",
   "execution_count": 29,
   "metadata": {},
   "outputs": [],
   "source": [
    "# not so good, so there is plenty room of improvement\n",
    "# e.g you can use timeseries provided\n",
    "# lets train on full data and submit\n",
    "model = LogisticRegression(max_iter=1e5)\n",
    "model.fit(data, labels.values.ravel())\n",
    "submission = pd.DataFrame({'id': test_data.index, 'Category': model.predict(test_data)})\n",
    "submission.to_csv(os.path.join('kaggle_output', 'sample_submission2.csv'), index=None)"
   ]
  },
  {
   "cell_type": "code",
   "execution_count": null,
   "metadata": {},
   "outputs": [],
   "source": [
    "# 62.5%, neat\n",
    "# GL : )"
   ]
  }
 ]
}