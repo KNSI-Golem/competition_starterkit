{
 "metadata": {
  "language_info": {
   "codemirror_mode": {
    "name": "ipython",
    "version": 3
   },
   "file_extension": ".py",
   "mimetype": "text/x-python",
   "name": "python",
   "nbconvert_exporter": "python",
   "pygments_lexer": "ipython3",
   "version": "3.8.6-final"
  },
  "orig_nbformat": 2,
  "kernelspec": {
   "name": "python3",
   "display_name": "Python 3.8.6 64-bit",
   "metadata": {
    "interpreter": {
     "hash": "16c31d61a8705ef2338a430691145c2a45fcb062bc6cbb6a4bda3eb989e70e5a"
    }
   }
  }
 },
 "nbformat": 4,
 "nbformat_minor": 2,
 "cells": [
  {
   "cell_type": "code",
   "execution_count": 1,
   "metadata": {},
   "outputs": [
    {
     "output_type": "stream",
     "name": "stdout",
     "text": [
      "(240000, 31)\n"
     ]
    },
    {
     "output_type": "execute_result",
     "data": {
      "text/plain": [
       "       cat0 cat1 cat2 cat3 cat4 cat5 cat6 cat7 cat8 cat9  ...     cont2  \\\n",
       "id                                                        ...             \n",
       "294672    A    N    A    A    H   BI    A    F   AF    A  ...  0.825906   \n",
       "378663    A    J    C    F    G   BI    A   AH   AV    A  ...  0.775983   \n",
       "243382    A    L    F    B    E   BI    A    E   BJ    A  ...  0.349280   \n",
       "420112    B    O    A    A    E   AB    A   AH    N    A  ...  0.357225   \n",
       "396134    A    I    A    B    D   AE    A    N    M    A  ...  0.249429   \n",
       "\n",
       "           cont3     cont4     cont5     cont6     cont7     cont8     cont9  \\\n",
       "id                                                                             \n",
       "294672  0.566271  0.834821  0.418962  0.786024  0.517031  0.726133  0.260050   \n",
       "378663  0.854265  0.236272  0.804565  0.555801  0.735970  0.487202  0.770561   \n",
       "243382  0.625846  0.771506  0.737403  0.720549  0.372884  0.413075  0.282077   \n",
       "420112  0.667713  0.576015  0.290814  0.245854  0.573437  0.420561  0.369397   \n",
       "396134  0.271644  0.226205  0.788825  0.507065  0.204093  0.351165  0.349229   \n",
       "\n",
       "          cont10  target  \n",
       "id                        \n",
       "294672  0.528997       0  \n",
       "378663  0.650874       1  \n",
       "243382  0.334873       0  \n",
       "420112  0.397687       0  \n",
       "396134  0.309360       0  \n",
       "\n",
       "[5 rows x 31 columns]"
      ],
      "text/html": "<div>\n<style scoped>\n    .dataframe tbody tr th:only-of-type {\n        vertical-align: middle;\n    }\n\n    .dataframe tbody tr th {\n        vertical-align: top;\n    }\n\n    .dataframe thead th {\n        text-align: right;\n    }\n</style>\n<table border=\"1\" class=\"dataframe\">\n  <thead>\n    <tr style=\"text-align: right;\">\n      <th></th>\n      <th>cat0</th>\n      <th>cat1</th>\n      <th>cat2</th>\n      <th>cat3</th>\n      <th>cat4</th>\n      <th>cat5</th>\n      <th>cat6</th>\n      <th>cat7</th>\n      <th>cat8</th>\n      <th>cat9</th>\n      <th>...</th>\n      <th>cont2</th>\n      <th>cont3</th>\n      <th>cont4</th>\n      <th>cont5</th>\n      <th>cont6</th>\n      <th>cont7</th>\n      <th>cont8</th>\n      <th>cont9</th>\n      <th>cont10</th>\n      <th>target</th>\n    </tr>\n    <tr>\n      <th>id</th>\n      <th></th>\n      <th></th>\n      <th></th>\n      <th></th>\n      <th></th>\n      <th></th>\n      <th></th>\n      <th></th>\n      <th></th>\n      <th></th>\n      <th></th>\n      <th></th>\n      <th></th>\n      <th></th>\n      <th></th>\n      <th></th>\n      <th></th>\n      <th></th>\n      <th></th>\n      <th></th>\n      <th></th>\n    </tr>\n  </thead>\n  <tbody>\n    <tr>\n      <th>294672</th>\n      <td>A</td>\n      <td>N</td>\n      <td>A</td>\n      <td>A</td>\n      <td>H</td>\n      <td>BI</td>\n      <td>A</td>\n      <td>F</td>\n      <td>AF</td>\n      <td>A</td>\n      <td>...</td>\n      <td>0.825906</td>\n      <td>0.566271</td>\n      <td>0.834821</td>\n      <td>0.418962</td>\n      <td>0.786024</td>\n      <td>0.517031</td>\n      <td>0.726133</td>\n      <td>0.260050</td>\n      <td>0.528997</td>\n      <td>0</td>\n    </tr>\n    <tr>\n      <th>378663</th>\n      <td>A</td>\n      <td>J</td>\n      <td>C</td>\n      <td>F</td>\n      <td>G</td>\n      <td>BI</td>\n      <td>A</td>\n      <td>AH</td>\n      <td>AV</td>\n      <td>A</td>\n      <td>...</td>\n      <td>0.775983</td>\n      <td>0.854265</td>\n      <td>0.236272</td>\n      <td>0.804565</td>\n      <td>0.555801</td>\n      <td>0.735970</td>\n      <td>0.487202</td>\n      <td>0.770561</td>\n      <td>0.650874</td>\n      <td>1</td>\n    </tr>\n    <tr>\n      <th>243382</th>\n      <td>A</td>\n      <td>L</td>\n      <td>F</td>\n      <td>B</td>\n      <td>E</td>\n      <td>BI</td>\n      <td>A</td>\n      <td>E</td>\n      <td>BJ</td>\n      <td>A</td>\n      <td>...</td>\n      <td>0.349280</td>\n      <td>0.625846</td>\n      <td>0.771506</td>\n      <td>0.737403</td>\n      <td>0.720549</td>\n      <td>0.372884</td>\n      <td>0.413075</td>\n      <td>0.282077</td>\n      <td>0.334873</td>\n      <td>0</td>\n    </tr>\n    <tr>\n      <th>420112</th>\n      <td>B</td>\n      <td>O</td>\n      <td>A</td>\n      <td>A</td>\n      <td>E</td>\n      <td>AB</td>\n      <td>A</td>\n      <td>AH</td>\n      <td>N</td>\n      <td>A</td>\n      <td>...</td>\n      <td>0.357225</td>\n      <td>0.667713</td>\n      <td>0.576015</td>\n      <td>0.290814</td>\n      <td>0.245854</td>\n      <td>0.573437</td>\n      <td>0.420561</td>\n      <td>0.369397</td>\n      <td>0.397687</td>\n      <td>0</td>\n    </tr>\n    <tr>\n      <th>396134</th>\n      <td>A</td>\n      <td>I</td>\n      <td>A</td>\n      <td>B</td>\n      <td>D</td>\n      <td>AE</td>\n      <td>A</td>\n      <td>N</td>\n      <td>M</td>\n      <td>A</td>\n      <td>...</td>\n      <td>0.249429</td>\n      <td>0.271644</td>\n      <td>0.226205</td>\n      <td>0.788825</td>\n      <td>0.507065</td>\n      <td>0.204093</td>\n      <td>0.351165</td>\n      <td>0.349229</td>\n      <td>0.309360</td>\n      <td>0</td>\n    </tr>\n  </tbody>\n</table>\n<p>5 rows × 31 columns</p>\n</div>"
     },
     "metadata": {},
     "execution_count": 1
    }
   ],
   "source": [
    "# Data loading\n",
    "\n",
    "import pandas as pd\n",
    "import numpy as np\n",
    "import os\n",
    "\n",
    "train_path = os.path.join('data', 'train.csv')\n",
    "test_path = os.path.join('data', 'test.csv')\n",
    "output_path = os.path.join('kaggle_output', 'sample_submission_2.csv')\n",
    "\n",
    "train_data = pd.read_csv(train_path)\n",
    "test_data = pd.read_csv(test_path)\n",
    "train_data.set_index('id', inplace=True)\n",
    "test_data.set_index('id', inplace=True)\n",
    "categorical_columns = [f'cat{idx}' for idx in range(19)]\n",
    "continous_columns = [f'cont{idx}' for idx in range(11)]\n",
    "print(train_data.shape)\n",
    "train_data.head()"
   ]
  },
  {
   "cell_type": "code",
   "execution_count": 2,
   "metadata": {},
   "outputs": [
    {
     "output_type": "stream",
     "name": "stdout",
     "text": [
      "(240000, 19) (240000, 11) (240000,)\n(180000, 30) (60000, 30) (180000,) (60000,)\n"
     ]
    }
   ],
   "source": [
    "# Some useful libraries\n",
    "from sklearn.preprocessing import LabelEncoder\n",
    "from sklearn.model_selection import train_test_split\n",
    "\n",
    "# categorical data label encoding\n",
    "for col in categorical_columns:\n",
    "    label_encoder = LabelEncoder().fit(pd.concat((train_data[col], test_data[col]), axis=0))\n",
    "    train_data[col] = label_encoder.transform(train_data[col])\n",
    "    test_data[col] = label_encoder.transform(test_data[col])\n",
    "    \n",
    "# transforming target into Boolean\n",
    "train_data.target = train_data.target == 1\n",
    "\n",
    "\n",
    "# splitting into training and validation datasets\n",
    "print(train_data[categorical_columns].shape, train_data[continous_columns].shape, train_data.target.shape)    # sanity check before split\n",
    "X_train, X_test, y_train, y_test = train_test_split(train_data[categorical_columns+continous_columns], train_data.target, test_size=0.25, random_state=2138)\n",
    "print(X_train.shape, X_test.shape, y_train.shape, y_test.shape) # sanity check after split"
   ]
  },
  {
   "cell_type": "code",
   "execution_count": 3,
   "metadata": {},
   "outputs": [
    {
     "output_type": "stream",
     "name": "stdout",
     "text": [
      "0.8339833333333333\n"
     ]
    }
   ],
   "source": [
    "# import predicting model's class\n",
    "from sklearn.linear_model import LogisticRegression\n",
    "\n",
    "# fitting model on training set\n",
    "log_reg = LogisticRegression(random_state=3821, max_iter=1e5).fit(X_train, y_train)\n",
    "\n",
    "print(log_reg.score(X_test, y_test))    # printing predition score of model's performance on the validation set "
   ]
  },
  {
   "cell_type": "code",
   "execution_count": 4,
   "metadata": {},
   "outputs": [],
   "source": [
    "# >0.83  accuracy with simple logistic regression? FR\n",
    "\n",
    "# Dumping prediction on test_data to file in the dedicated format\n",
    "test_indices = test_data.index.to_list()\n",
    "prediction = list(log_reg.predict(test_data).astype(int))\n",
    "pd.DataFrame({'id': test_indices, 'Category': prediction}).to_csv(output_path, index=None)"
   ]
  },
  {
   "cell_type": "code",
   "execution_count": null,
   "metadata": {},
   "outputs": [],
   "source": [
    "# Voila! : )"
   ]
  }
 ]
}